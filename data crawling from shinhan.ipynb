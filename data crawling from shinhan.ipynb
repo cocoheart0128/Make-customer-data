{
 "cells": [
  {
   "cell_type": "code",
   "execution_count": 53,
   "id": "9ffec101",
   "metadata": {},
   "outputs": [],
   "source": [
    "##LLM 훈련하기 위해 데이터 crawlering 필요함\n",
    "##신한은행 홈페이지에 있는 질의문답을 수집하여 데이터 셋 생성\n",
    "##수집 분야 펀드,보험,외환"
   ]
  },
  {
   "cell_type": "code",
   "execution_count": 223,
   "id": "b3abe244",
   "metadata": {},
   "outputs": [
    {
     "name": "stdout",
     "output_type": "stream",
     "text": [
      "1\n",
      "2\n",
      "3\n"
     ]
    }
   ],
   "source": [
    "import time\n",
    "from selenium import webdriver\n",
    "from bs4 import BeautifulSoup\n",
    "import pandas as pd\n",
    "import time\n",
    "from selenium.webdriver.common.keys import Keys\n",
    "from selenium.webdriver.common.by import By\n",
    "\n",
    "# 크롬 드라이버 객체 생성\n",
    "driver = webdriver.Chrome()\n",
    "\n",
    "# 페이지 열기\n",
    "url = \"https://www.shinhan.com/hpe/index.jsp#050101010000\"\n",
    "driver.get(url)\n",
    "\n",
    "##click to 펀드\n",
    "driver.find_element(By.XPATH, '/html/body/div[1]/div[2]/div/div/div[2]/div[1]/div[1]/div/div[2]/ul/li[4]/a').click()\n",
    "\n",
    "q_list=[]\n",
    "\n",
    "##click to 질문\n",
    "for i in range(1,4):\n",
    "    print(i)\n",
    "#     /html/body/div[1]/div[2]/div/div/div[2]/div[1]/div[1]/div/div[3]/div[2]/div/table/tbody/tr[1]/td[2]\n",
    "    q_path=f'html/body/div[1]/div[2]/div/div/div[2]/div[1]/div[1]/div/div[3]/div[2]/div/table/tbody/tr[{i}]/td[2]/nobr/a'\n",
    "    driver.find_element(By.XPATH, q_path).click()\n",
    "    time.sleep(5)\n",
    "    ##get text\n",
    "    dt_elements = driver.find_elements(By.XPATH,\"/html/body/div[1]/div[2]/div/div/div[2]/div[1]/div[2]/div/div[1]/dl/dt/span[2]\")\n",
    "    dd_elements = driver.find_elements(By.XPATH, \"/html/body/div[1]/div[2]/div/div/div[2]/div[1]/div[2]/div/div[1]/dl/dd/span[2]\")\n",
    "\n",
    "    dt_list = []\n",
    "    dd_list = []\n",
    "    for i in range(len(dt_elements)):\n",
    "\n",
    "        dt = dt_elements[i].text.replace(\"\\n\",\" \").strip()\n",
    "        dd = dd_elements[i].text.replace(\"\\n\",\" \").strip()\n",
    "        dt_list.append(dt)\n",
    "        dd_list.append(dd)\n",
    "        dict_elements={'Instruction':dt_list[0],'Context':'','Response':dd_list[0],'Category':'open_qa'}\n",
    "        dict_elements['JSON']=f'{dict_elements}'\n",
    "    q_list.append(dict_elements)\n",
    "    driver.find_element(By.XPATH, '/html/body/div[1]/div[2]/div/div/div[2]/div[1]/div[2]/div/div[2]/a').click()\n",
    "    time.sleep(5)"
   ]
  },
  {
   "cell_type": "code",
   "execution_count": 224,
   "id": "7c05de2a",
   "metadata": {},
   "outputs": [],
   "source": [
    "pd.DataFrame(q_list).to_csv('펀드.csv',header=True,index=False)"
   ]
  },
  {
   "cell_type": "code",
   "execution_count": null,
   "id": "2b51645a",
   "metadata": {},
   "outputs": [
    {
     "name": "stdout",
     "output_type": "stream",
     "text": [
      "1\n"
     ]
    }
   ],
   "source": [
    "import time\n",
    "from selenium import webdriver\n",
    "from bs4 import BeautifulSoup\n",
    "import pandas as pd\n",
    "import time\n",
    "from selenium.webdriver.common.keys import Keys\n",
    "from selenium.webdriver.common.by import By\n",
    "\n",
    "# 크롬 드라이버 객체 생성\n",
    "driver = webdriver.Chrome()\n",
    "\n",
    "# 페이지 열기\n",
    "url = \"https://www.shinhan.com/hpe/index.jsp#050101010000\"\n",
    "driver.get(url)\n",
    "\n",
    "##click to 보험\n",
    "driver.find_element(By.XPATH, '/html/body/div[1]/div[2]/div/div/div[2]/div[1]/div[1]/div/div[2]/ul/li[5]/a').click()\n",
    "\n",
    "q_list=[]\n",
    "\n",
    "##click to 질문\n",
    "for i in range(1,4):\n",
    "    print(i)\n",
    "#     /html/body/div[1]/div[2]/div/div/div[2]/div[1]/div[1]/div/div[3]/div[2]/div/table/tbody/tr[1]/td[2]\n",
    "    q_path=f'html/body/div[1]/div[2]/div/div/div[2]/div[1]/div[1]/div/div[3]/div[2]/div/table/tbody/tr[{i}]/td[2]/nobr/a'\n",
    "    driver.find_element(By.XPATH, q_path).click()\n",
    "    time.sleep(5)\n",
    "    ##get text\n",
    "    dt_elements = driver.find_elements(By.XPATH,\"/html/body/div[1]/div[2]/div/div/div[2]/div[1]/div[2]/div/div[1]/dl/dt/span[2]\")\n",
    "    dd_elements = driver.find_elements(By.XPATH, \"/html/body/div[1]/div[2]/div/div/div[2]/div[1]/div[2]/div/div[1]/dl/dd/span[2]\")\n",
    "\n",
    "    dt_list = []\n",
    "    dd_list = []\n",
    "    for i in range(len(dt_elements)):\n",
    "\n",
    "        dt = dt_elements[i].text.replace(\"\\n\",\" \").strip()\n",
    "        dd = dd_elements[i].text.replace(\"\\n\",\" \").strip()\n",
    "        dt_list.append(dt)\n",
    "        dd_list.append(dd)\n",
    "        dict_elements={'Instruction':dt_list[0],'Context':'','Response':dd_list[0],'Category':'open_qa'}\n",
    "        dict_elements['JSON']=f'{dict_elements}'\n",
    "    q_list.append(dict_elements)\n",
    "    driver.find_element(By.XPATH, '/html/body/div[1]/div[2]/div/div/div[2]/div[1]/div[2]/div/div[2]/a').click()\n",
    "    time.sleep(5)"
   ]
  },
  {
   "cell_type": "code",
   "execution_count": null,
   "id": "93c96292",
   "metadata": {},
   "outputs": [],
   "source": [
    "pd.DataFrame(q_list).to_csv('보험.csv',header=True,index=False)"
   ]
  },
  {
   "cell_type": "code",
   "execution_count": null,
   "id": "82b67dce",
   "metadata": {},
   "outputs": [],
   "source": [
    "import time\n",
    "from selenium import webdriver\n",
    "from bs4 import BeautifulSoup\n",
    "import pandas as pd\n",
    "import time\n",
    "from selenium.webdriver.common.keys import Keys\n",
    "from selenium.webdriver.common.by import By\n",
    "\n",
    "# 크롬 드라이버 객체 생성\n",
    "driver = webdriver.Chrome()\n",
    "\n",
    "# 페이지 열기\n",
    "url = \"https://www.shinhan.com/hpe/index.jsp#050101010000\"\n",
    "driver.get(url)\n",
    "\n",
    "##click to 외환\n",
    "driver.find_element(By.XPATH, '/html/body/div[1]/div[2]/div/div/div[2]/div[1]/div[1]/div/div[2]/ul/li[6]/a').click()\n",
    "q_list=[]\n",
    "\n",
    "for k in range(1,10):\n",
    "    try:\n",
    "        print(\"페이지 수 : \",k)\n",
    "        print(\"--------------------------------\")\n",
    "        driver.find_element(By.XPATH,f'//*[@id=\"pl_pageNav_page_{k}\"]').send_keys(Keys.ENTER)\n",
    "        time.sleep(5)\n",
    "        \n",
    "        try:\n",
    "            \n",
    "            for i in range(1,11):\n",
    "                print(\"질문 수 : \",i)\n",
    "                q_path=f'html/body/div[1]/div[2]/div/div/div[2]/div[1]/div[1]/div/div[3]/div[2]/div/table/tbody/tr[{i}]/td[2]/nobr/a'\n",
    "                driver.find_element(By.XPATH, q_path).click()\n",
    "                time.sleep(5)\n",
    "                ##get text\n",
    "                dt_elements = driver.find_elements(By.XPATH,\"/html/body/div[1]/div[2]/div/div/div[2]/div[1]/div[2]/div/div[1]/dl/dt/span[2]\")\n",
    "                dd_elements = driver.find_elements(By.XPATH, \"/html/body/div[1]/div[2]/div/div/div[2]/div[1]/div[2]/div/div[1]/dl/dd/span[2]\")\n",
    "\n",
    "                dt_list = []\n",
    "                dd_list = []\n",
    "                for i in range(len(dt_elements)):\n",
    "\n",
    "                    dt = dt_elements[i].text.replace(\"\\n\",\" \").strip()\n",
    "                    dd = dd_elements[i].text.replace(\"\\n\",\" \").strip()\n",
    "                    dt_list.append(dt)\n",
    "                    dd_list.append(dd)\n",
    "                    dict_elements={'Instruction':dt_list[0],'Context':'','Response':dd_list[0],'Category':'open_qa'}\n",
    "                    dict_elements['JSON']=f'{dict_elements}'\n",
    "                q_list.append(dict_elements)\n",
    "                driver.find_element(By.XPATH, '/html/body/div[1]/div[2]/div/div/div[2]/div[1]/div[2]/div/div[2]/a').click()\n",
    "                time.sleep(5)\n",
    "        except Exception as e:\n",
    "            print('질문 없습니다!')\n",
    "                 \n",
    "    except Exception as e:\n",
    "        print('페이지 없습니다!')\n",
    "    print(\"--------------------------------\")"
   ]
  },
  {
   "cell_type": "code",
   "execution_count": null,
   "id": "00dd9d78",
   "metadata": {},
   "outputs": [],
   "source": [
    "pd.DataFrame(q_list).to_csv('외환.csv',index=False,header=True)"
   ]
  },
  {
   "cell_type": "code",
   "execution_count": null,
   "id": "d6f570d9",
   "metadata": {},
   "outputs": [],
   "source": []
  },
  {
   "cell_type": "code",
   "execution_count": 38,
   "id": "24761c6d",
   "metadata": {},
   "outputs": [],
   "source": [
    "# pip install lxml"
   ]
  },
  {
   "cell_type": "code",
   "execution_count": 66,
   "id": "7f913e0d",
   "metadata": {},
   "outputs": [],
   "source": [
    "# import requests\n",
    "# from bs4 import BeautifulSoup\n",
    "# url = 'https://www.shinhan.com/hpe/index.jsp#050101010000'\n",
    "# headers = {'User-Agent': 'Mozilla/5.0 (Windows NT 10.0; Win64; x64) AppleWebKit/537.36 (KHTML, like Gecko) Chrome/67.0.3396.99 Safari/537.36'}\n",
    "# response = requests.get(url,headers=headers)\n",
    "# soup = BeautifulSoup(response.text, 'html5lib')"
   ]
  }
 ],
 "metadata": {
  "kernelspec": {
   "display_name": "Python 3",
   "language": "python",
   "name": "python3"
  },
  "language_info": {
   "codemirror_mode": {
    "name": "ipython",
    "version": 3
   },
   "file_extension": ".py",
   "mimetype": "text/x-python",
   "name": "python",
   "nbconvert_exporter": "python",
   "pygments_lexer": "ipython3",
   "version": "3.8.8"
  }
 },
 "nbformat": 4,
 "nbformat_minor": 5
}
